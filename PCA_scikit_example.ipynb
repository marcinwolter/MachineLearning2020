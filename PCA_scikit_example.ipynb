{
  "nbformat": 4,
  "nbformat_minor": 0,
  "metadata": {
    "colab": {
      "name": "PCA_scikit_example.ipynb",
      "provenance": [],
      "authorship_tag": "ABX9TyPj2Svx1pEBtSS5b+2HNXOi",
      "include_colab_link": true
    },
    "kernelspec": {
      "name": "python3",
      "display_name": "Python 3"
    }
  },
  "cells": [
    {
      "cell_type": "markdown",
      "metadata": {
        "id": "view-in-github",
        "colab_type": "text"
      },
      "source": [
        "<a href=\"https://colab.research.google.com/github/marcinwolter/MachineLearning2020/blob/main/PCA_scikit_example.ipynb\" target=\"_parent\"><img src=\"https://colab.research.google.com/assets/colab-badge.svg\" alt=\"Open In Colab\"/></a>"
      ]
    },
    {
      "cell_type": "markdown",
      "metadata": {
        "id": "N5JY5IM6sypA"
      },
      "source": [
        "# **PCA Example in Python with scikit-learn**\n",
        "\n",
        "source: https://cmdlinetips.com/2018/03/pca-example-in-python-with-scikit-learn/\n",
        "\n",
        "Principal Component Analysis (PCA) is one of the most useful techniques in Exploratory Data Analysis to understand the data, reduce dimensions of data and for unsupervised learning in general.\n",
        "\n",
        "Let us quickly see a simple example of doing PCA analysis in Python. Here we will use scikit-learn to do PCA on a simulated data.\n",
        "\n",
        "Let us load the basic packages needed for the PCA analysis"
      ]
    },
    {
      "cell_type": "code",
      "metadata": {
        "id": "SHFCJmIds9h4"
      },
      "source": [
        "import matplotlib.pyplot as plt\n",
        "import seaborn as sns\n",
        "import pandas as pd\n",
        "import numpy as np\n",
        "%matplotlib inline"
      ],
      "execution_count": 14,
      "outputs": []
    },
    {
      "cell_type": "markdown",
      "metadata": {
        "id": "t5Q2b2G1tJ00"
      },
      "source": [
        "We will simulate data using scikit-learn’s make-blobs module in sklearn.datasets. And we will use PCA implemented in scikit-learn to do the PCA analysis."
      ]
    },
    {
      "cell_type": "code",
      "metadata": {
        "id": "xRqit1zWtSVm"
      },
      "source": [
        "# load make_blobs to simulate data\n",
        "from sklearn.datasets import make_blobs\n",
        "# load decomposition to do PCA analysis with sklearn\n",
        "from sklearn import decomposition"
      ],
      "execution_count": 15,
      "outputs": []
    },
    {
      "cell_type": "markdown",
      "metadata": {
        "id": "FMgaSZQatVV5"
      },
      "source": [
        "Let us make simulated data using make_blobs. make_blobs is one of the modules available in scikit-learn to construct simulated data. make_blobs can be easily used to make data set with multiple gaussian clusters and is widely used to test clustering algorithms. Here we will use make_blobs to generate 100 x 10 matrix data, such that there are 100 samples with 10 observations. These 100 samples were generated from four different clusters. Since it is simulated, we know which cluster each sample belong to."
      ]
    },
    {
      "cell_type": "code",
      "metadata": {
        "id": "OBWk9XfutZlr",
        "outputId": "302ad280-defe-435c-d366-0b7df547e7e8",
        "colab": {
          "base_uri": "https://localhost:8080/",
          "height": 34
        }
      },
      "source": [
        "X1, Y1 = make_blobs(n_features=10, \n",
        "         n_samples=100,\n",
        "         centers=4, random_state=4,\n",
        "         cluster_std=4)\n",
        "print(X1.shape)"
      ],
      "execution_count": 16,
      "outputs": [
        {
          "output_type": "stream",
          "text": [
            "(100, 10)\n"
          ],
          "name": "stdout"
        }
      ]
    },
    {
      "cell_type": "markdown",
      "metadata": {
        "id": "ZomcaX_Uthod"
      },
      "source": [
        "Here, X1 is the 100 x 10 data and Y1 is cluster assignment for the 100 samples. Let us create a PCA model with 4 components from sklearn.decomposition."
      ]
    },
    {
      "cell_type": "code",
      "metadata": {
        "id": "Esd3ebG4txHg"
      },
      "source": [
        "pca = decomposition.PCA(n_components=10)"
      ],
      "execution_count": 17,
      "outputs": []
    },
    {
      "cell_type": "markdown",
      "metadata": {
        "id": "YQYxSdH4tzwn"
      },
      "source": [
        "The simulated data is already centered and scales, so we can go ahead and fit PCA model. We will fit PCA model using fit_transform function to our data X1 and the result pc contains the principal components."
      ]
    },
    {
      "cell_type": "code",
      "metadata": {
        "id": "odPHcADTtykx"
      },
      "source": [
        "pc = pca.fit_transform(X1)"
      ],
      "execution_count": 18,
      "outputs": []
    },
    {
      "cell_type": "markdown",
      "metadata": {
        "id": "IMlhDJiCuPrX"
      },
      "source": [
        "Let us examine the variance explained by each principal component. We can clearly see that the first two principal components explain huge part of the variation in the data. Let us also plot the variance explained by each principal component. "
      ]
    },
    {
      "cell_type": "code",
      "metadata": {
        "id": "VrUtm2JUuZPV",
        "outputId": "bb32df8e-3983-4d0b-db4a-4eda700d6727",
        "colab": {
          "base_uri": "https://localhost:8080/",
          "height": 349
        }
      },
      "source": [
        "principal = pca.explained_variance_\n",
        "print(\"PCA components:  \",pca.explained_variance_)\n",
        "\n",
        "fig, ax = plt.subplots(tight_layout=True)\n",
        "ax.bar( [x for x in range(principal.size)], principal)"
      ],
      "execution_count": 19,
      "outputs": [
        {
          "output_type": "stream",
          "text": [
            "PCA components:   [136.08949845 112.07143292  57.83991277  24.41987932  19.65886943\n",
            "  15.17309674  12.99816704  11.30141727   9.99113195   8.81785535]\n"
          ],
          "name": "stdout"
        },
        {
          "output_type": "execute_result",
          "data": {
            "text/plain": [
              "<BarContainer object of 10 artists>"
            ]
          },
          "metadata": {
            "tags": []
          },
          "execution_count": 19
        },
        {
          "output_type": "display_data",
          "data": {
            "image/png": "[encoded data removed]",
            "text/plain": [
              "<Figure size 432x288 with 1 Axes>"
            ]
          },
          "metadata": {
            "tags": [],
            "needs_background": "light"
          }
        }
      ]
    },
    {
      "cell_type": "markdown",
      "metadata": {
        "id": "tek2SiK7zpNm"
      },
      "source": [
        "We cannormalize this histogram and see, that first twocomponents explain ~60% of variation"
      ]
    },
    {
      "cell_type": "code",
      "metadata": {
        "id": "Saq0QLi4zvMr",
        "outputId": "34f7dd8d-b075-46e5-a9f2-40ce5d4b0e15",
        "colab": {
          "base_uri": "https://localhost:8080/",
          "height": 349
        }
      },
      "source": [
        "principal_ratio = pca.explained_variance_ratio_\n",
        "print(\"PCA components:  \",pca.explained_variance_ratio_)\n",
        "\n",
        "fig, ax = plt.subplots(tight_layout=True)\n",
        "ax.bar( [x for x in range(principal_ratio.size )], principal_ratio)"
      ],
      "execution_count": 24,
      "outputs": [
        {
          "output_type": "stream",
          "text": [
            "PCA components:   [0.33325761 0.27444188 0.14163908 0.0597997  0.04814088 0.03715606\n",
            " 0.03183007 0.02767505 0.0244664  0.02159327]\n"
          ],
          "name": "stdout"
        },
        {
          "output_type": "execute_result",
          "data": {
            "text/plain": [
              "<BarContainer object of 10 artists>"
            ]
          },
          "metadata": {
            "tags": []
          },
          "execution_count": 24
        },
        {
          "output_type": "display_data",
          "data": {
            "image/png": "[encoded data removed]",
            "text/plain": [
              "<Figure size 432x288 with 1 Axes>"
            ]
          },
          "metadata": {
            "tags": [],
            "needs_background": "light"
          }
        }
      ]
    },
    {
      "cell_type": "markdown",
      "metadata": {
        "id": "YQyqfDtTvhgP"
      },
      "source": [
        "Now we can use the top two principal components and make scatter plot. Quite good separation."
      ]
    },
    {
      "cell_type": "code",
      "metadata": {
        "id": "yjIzMa5UwQgg",
        "outputId": "b1cbdbfb-9a55-4b19-e405-ab9a34e74a1c",
        "colab": {
          "base_uri": "https://localhost:8080/",
          "height": 286
        }
      },
      "source": [
        "plt.scatter(pc[:, 0], pc[:, 1], c=Y1.astype(int), cmap=plt.get_cmap('Paired', 4), vmin=-0.5, vmax=3.5)\n",
        "plt.colorbar()"
      ],
      "execution_count": 20,
      "outputs": [
        {
          "output_type": "execute_result",
          "data": {
            "text/plain": [
              "<matplotlib.colorbar.Colorbar at 0x7fb4c0180f28>"
            ]
          },
          "metadata": {
            "tags": []
          },
          "execution_count": 20
        },
        {
          "output_type": "display_data",
          "data": {
            "image/png": "[encoded data removed]",
            "text/plain": [
              "<Figure size 432x288 with 2 Axes>"
            ]
          },
          "metadata": {
            "tags": [],
            "needs_background": "light"
          }
        }
      ]
    },
    {
      "cell_type": "markdown",
      "metadata": {
        "id": "M4huVYckzF_o"
      },
      "source": [
        "As a comparison if we choose just two random variables out of 10 the separation is much worse: "
      ]
    },
    {
      "cell_type": "code",
      "metadata": {
        "id": "4d3n_9iZzQzc",
        "outputId": "37723854-1f9b-4713-d9be-456795cc8151",
        "colab": {
          "base_uri": "https://localhost:8080/",
          "height": 286
        }
      },
      "source": [
        "plt.scatter(X1[:, 0], X1[:, 1], c=Y1.astype(int), cmap=plt.get_cmap('Paired', 4), vmin=-0.5, vmax=3.5)\n",
        "plt.colorbar()"
      ],
      "execution_count": 21,
      "outputs": [
        {
          "output_type": "execute_result",
          "data": {
            "text/plain": [
              "<matplotlib.colorbar.Colorbar at 0x7fb4c013d940>"
            ]
          },
          "metadata": {
            "tags": []
          },
          "execution_count": 21
        },
        {
          "output_type": "display_data",
          "data": {
            "image/png": "[encoded data removed]",
            "text/plain": [
              "<Figure size 432x288 with 2 Axes>"
            ]
          },
          "metadata": {
            "tags": [],
            "needs_background": "light"
          }
        }
      ]
    }
  ]
}